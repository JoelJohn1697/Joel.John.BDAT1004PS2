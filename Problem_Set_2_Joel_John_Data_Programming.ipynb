{
 "cells": [
  {
   "cell_type": "markdown",
   "id": "0016a642",
   "metadata": {},
   "source": [
    "Question 1\n",
    "\n",
    "Explanation:\n",
    "Here a is defined as a global so we can see each time we call function b it calls function c passing value a in it and it returns the value of a with addition of 2 in it.Hence the when b was called first time it made value of a = 2 the second time it made the value a = 4 and hence we got the output as 6 when we called for the function b for the third time.\n",
    "\n"
   ]
  },
  {
   "cell_type": "code",
   "execution_count": 35,
   "id": "547f23e0",
   "metadata": {},
   "outputs": [
    {
     "name": "stdout",
     "output_type": "stream",
     "text": [
      "6\n"
     ]
    }
   ],
   "source": [
    "try:\n",
    "    a = 0\n",
    "    def b():\n",
    "     global a\n",
    "     a = c(a)\n",
    "    def c(a):\n",
    "     return a + 2\n",
    "\n",
    "    b()\n",
    "    b()\n",
    "    b()\n",
    "    print(a)\n",
    "except Exception as e:\n",
    "    print(\"Oops!\", e.__class__, \"occurred.\")\n"
   ]
  },
  {
   "cell_type": "markdown",
   "id": "11c1ec24",
   "metadata": {},
   "source": [
    "Question 2"
   ]
  },
  {
   "cell_type": "code",
   "execution_count": 6,
   "id": "89c31fd5",
   "metadata": {},
   "outputs": [
    {
     "name": "stdout",
     "output_type": "stream",
     "text": [
      "1263\n",
      "File idterm.py not found!\n"
     ]
    }
   ],
   "source": [
    "def fileLength(filename):\n",
    "    try:\n",
    "        demofile = open(filename)\n",
    "        inputlen = demofile.read()\n",
    "        demofile.close()\n",
    "        print(len(inputlen))\n",
    "    except:\n",
    "        print(\"File \"+filename+\" not found!\")\n",
    "fileLength(\"midterm.py\")\n",
    "fileLength(\"idterm.py\")"
   ]
  },
  {
   "cell_type": "markdown",
   "id": "7fe6c50b",
   "metadata": {},
   "source": [
    "Question 3"
   ]
  },
  {
   "cell_type": "code",
   "execution_count": 36,
   "id": "ac7c7fa7",
   "metadata": {},
   "outputs": [
    {
     "name": "stdout",
     "output_type": "stream",
     "text": [
      "I am a Kangaroo located at coordinates ( 0,0)\n",
      "['doll', 'firetruck', 'kitten']\n",
      "I am a Kangaroo located at coordinates ( 3,0)\n"
     ]
    }
   ],
   "source": [
    "try:\n",
    "    class Marsupial:                 #parent class named Marsupial \n",
    "\n",
    "        def __init__(self,x,y):       #defining a constructor to take input x,y variables of parent class\n",
    "            self.pouch=[]                   \n",
    "\n",
    "        def put_in_pouch(self,items):   # appending the items to empty self.pouch() list\n",
    "            self.pouch.append(items)\n",
    "\n",
    "        def pouch_contents(self):           \n",
    "            return self.pouch\n",
    "\n",
    "    class Kangaroo(Marsupial):         #creating a sub-class named Kangaroo \n",
    "        def __init__(self,x,y):              \n",
    "            super().__init__(x,y)     #extending Marsupial constructor to take both coordinates x and y\n",
    "            self.dx = 0                      \n",
    "            self.dy = 0                        \n",
    "\n",
    "        def jump(self,x,y):                 \n",
    "            self.dx = self.dx + x    #defining jump function to jump the coordinates of Kangaroo according to the input \n",
    "            self.dy = self.dy + y\n",
    "\n",
    "        def __str__(self):          #overload the _str_ operator \n",
    "\n",
    "            return ('I am a Kangaroo located at coordinates ( {},{})'.format(self.dx,self.dy))\n",
    "\n",
    "    k = Kangaroo(0,0)\n",
    "    print(k)\n",
    "    k.put_in_pouch('doll')\n",
    "    k.put_in_pouch('firetruck')\n",
    "    k.put_in_pouch('kitten')\n",
    "    k.pouch_contents()\n",
    "    print(k.pouch)  \n",
    "    k.jump(1,0)\n",
    "    k.jump(1,0)\n",
    "    k.jump(1,0)\n",
    "    print(k)\n",
    "except Exception as e:\n",
    "    print(\"Oops!\", e.__class__, \"occurred.\")\n",
    "\n"
   ]
  },
  {
   "cell_type": "markdown",
   "id": "42332236",
   "metadata": {},
   "source": [
    "Question4"
   ]
  },
  {
   "cell_type": "code",
   "execution_count": 37,
   "id": "b82d1209",
   "metadata": {},
   "outputs": [
    {
     "name": "stdout",
     "output_type": "stream",
     "text": [
      "1\n",
      "10\n",
      "5\n",
      "16\n",
      "8\n",
      "4\n",
      "2\n",
      "1\n"
     ]
    }
   ],
   "source": [
    "try:\n",
    "    def collatz (x):\n",
    "        if(x != 1):\n",
    "            print(x ,end ='\\n')\n",
    "        if(x == 1):\n",
    "            print(x ,end ='\\n')\n",
    "            return x\n",
    "        if(x%2 == 0):\n",
    "            x = x // 2\n",
    "            collatz(x)\n",
    "        else:\n",
    "            x= 3*x + 1\n",
    "            collatz(x)\n",
    "\n",
    "\n",
    "    collatz(1)\n",
    "    collatz(10)\n",
    "except Exception as e:\n",
    "    print(\"Oops!\", e.__class__, \"occurred.\")"
   ]
  },
  {
   "cell_type": "markdown",
   "id": "8e6fbbc7",
   "metadata": {},
   "source": [
    "Question 5"
   ]
  },
  {
   "cell_type": "code",
   "execution_count": 38,
   "id": "0c411c66",
   "metadata": {},
   "outputs": [
    {
     "name": "stdout",
     "output_type": "stream",
     "text": [
      "0\n",
      "1\n",
      "11\n",
      "1001\n"
     ]
    }
   ],
   "source": [
    "try:\n",
    "    binary_number =\"\"\n",
    "    def binary (n):\n",
    "        global binary_number\n",
    "        if(n!=1): # if input number not equal to 1\n",
    "            if(n==0):\n",
    "                print(\"0\")\n",
    "            else:\n",
    "                a=\"\"\n",
    "                remainder = int(n%2)\n",
    "                a =str(remainder)\n",
    "                binary_number+=a\n",
    "                n =int(n/2)\n",
    "                binary(n)\n",
    "        else:\n",
    "            binary_number +=\"1\"\n",
    "            binary_number = binary_number [::-1] \n",
    "            print(binary_number)\n",
    "            binary_number=\"\"\n",
    "\n",
    "    binary(0)\n",
    "    binary(1)\n",
    "    binary(3)\n",
    "    binary(9)\n",
    "except Exception as e:\n",
    "    print(\"Oops!\", e.__class__, \"occurred.\")"
   ]
  },
  {
   "cell_type": "markdown",
   "id": "f52edd8b",
   "metadata": {},
   "source": [
    "Question 6"
   ]
  },
  {
   "cell_type": "code",
   "execution_count": 39,
   "id": "d59f6cfb",
   "metadata": {},
   "outputs": [
    {
     "name": "stdout",
     "output_type": "stream",
     "text": [
      "W3C Mission\n",
      " Principles\n"
     ]
    }
   ],
   "source": [
    "try:\n",
    "    from html.parser import HTMLParser\n",
    "    a1='False'\n",
    "    a2='False'\n",
    "    class HeadingParser(HTMLParser):  \n",
    "        def handle_starttag(self, tag, attrs):\n",
    "            if tag == 'h1':\n",
    "                global a1\n",
    "                a1 = \"True\"\n",
    "            if tag == 'h2':\n",
    "                global a2\n",
    "                a2 = \"True\"  \n",
    "        def handle_endtag(self, tag):\n",
    "            if a1 == \"False\":\n",
    "                pass\n",
    "            if a2 == \"False\":\n",
    "                pass\n",
    "        def handle_data(self, data):\n",
    "            global a1,a2\n",
    "            if a1 == \"True\": \n",
    "                print(data)\n",
    "                a1='False'    \n",
    "            if a2 == \"True\":        \n",
    "                print(' ',end='')\n",
    "                print(data)\n",
    "                a2 = 'False'\n",
    "    demofile = open('w3c.html') \n",
    "    content = demofile.read() \n",
    "    demofile.close() \n",
    "    hp = HeadingParser() \n",
    "    hp.feed(content) \n",
    "except Exception as e:\n",
    "    print(\"Oops!\", e.__class__, \"occurred.\")"
   ]
  },
  {
   "cell_type": "markdown",
   "id": "4dce37a4",
   "metadata": {},
   "source": [
    "Question7"
   ]
  },
  {
   "cell_type": "code",
   "execution_count": 40,
   "id": "c66da9fa",
   "metadata": {},
   "outputs": [
    {
     "name": "stdout",
     "output_type": "stream",
     "text": [
      "http://reed.cs.depaul.edu/lperkovic/test1.html\n",
      " http://reed.cs.depaul.edu/lperkovic/test2.html\n",
      "  http://reed.cs.depaul.edu/lperkovic/test4.html\n",
      " http://reed.cs.depaul.edu/lperkovic/test3.html\n",
      "  http://reed.cs.depaul.edu/lperkovic/test4.html\n"
     ]
    }
   ],
   "source": [
    "from urllib.request import urlopen\n",
    "from urllib.parse import urljoin\n",
    "from html.parser import HTMLParser\n",
    "\n",
    "try:\n",
    "    class MainFunction(HTMLParser):\n",
    "\n",
    "        def __init__(self, giv_URL):\n",
    "\n",
    "            HTMLParser.__init__(self)\n",
    "            self.givenURL = giv_URL\n",
    "            self.availableLinks = []\n",
    "\n",
    "        def catchLinks(self):\n",
    "            return self.availableLinks\n",
    "\n",
    "        def handle_starttag(self, tag, attrs):\n",
    "            if tag == 'a':\n",
    "                for attr in attrs:          \n",
    "                    if attr[0] == 'href': \n",
    "                        absolute = urljoin(self.givenURL, attr[1])\n",
    "                        if absolute[:4] == 'http':\n",
    "                            self.availableLinks.append(absolute)\n",
    "\n",
    "\n",
    "    all_Links = []\n",
    "    def webdir(giv_URL,depth,index):\n",
    "        global all_Links\n",
    "        res = urlopen(giv_URL)\n",
    "        cont = res.read().decode()\n",
    "        c =MainFunction(giv_URL)\n",
    "        c.feed(cont)\n",
    "        all_Links = c.catchLinks()\n",
    "        print(index*\" \" + giv_URL)\n",
    "        if depth == 0:\n",
    "             return \n",
    "        for i in all_Links: \n",
    "            webdir(i, depth-1, index+1)    \n",
    "\n",
    "\n",
    "    webdir('http://reed.cs.depaul.edu/lperkovic/test1.html',2,0)\n",
    "\n",
    "except Exception as e:\n",
    "    print(\"Oops!\", e.__class__, \"occurred.\")"
   ]
  },
  {
   "cell_type": "markdown",
   "id": "46ee300d",
   "metadata": {},
   "source": [
    "Question  8\n"
   ]
  },
  {
   "cell_type": "code",
   "execution_count": 43,
   "id": "5a0bb26d",
   "metadata": {},
   "outputs": [
    {
     "name": "stdout",
     "output_type": "stream",
     "text": [
      "output 1: \n",
      "(24.8,)(28.4,)(27.9,)(27.6,)(4.2,)(8.3,)(15.7,)(10.4,)(13.6,)(20.7,)(27.7,)(22.2,)\n",
      "output 2: \n",
      "('Mumbai',)('London',)('Cairo',)\n",
      "output 3: \n",
      "('Mumbai', 'India', 'Winter', 24.8, 5.9)('Mumbai', 'India', 'Spring', 28.4, 16.2)('Mumbai', 'India', 'Summer', 27.9, 1549.4)('Mumbai', 'India', 'Fall', 27.6, 346)\n",
      "output 4: \n",
      "('Mumbai', 'India', 'Fall', 27.6, 346)('London', 'United Kingdom', 'Fall', 10.4, 218.5)('Cairo', 'Egypt', 'Fall', 22.2, 4.5)\n",
      "output 5: \n",
      "('Mumbai', 'India', 'Fall')('London', 'United Kingdom', 'Winter')('London', 'United Kingdom', 'Fall')\n",
      "output 6: \n",
      "('Cairo', 'Egypt')('Mumbai', 'India')\n",
      "output 7: \n",
      "(27.6,)\n",
      "output 8: \n",
      "('Fall', 569.0)('Spring', 192.29999999999998)('Summer', 1706.5)('Winter', 230.1)"
     ]
    }
   ],
   "source": [
    "try:\n",
    "    import sqlite3\n",
    "    conn = sqlite3.connect('trial.db')\n",
    "    conn.execute('''\n",
    "    CREATE TABLE IF NOT EXISTS city_data(city text, \n",
    "                          country text, \n",
    "                          season integer, \n",
    "                          temperature integer,\n",
    "                          rainfall integer);''')\n",
    "    conn.commit()\n",
    "    my_cur = conn.cursor()\n",
    "    conn.execute(\"INSERT INTO city_data VALUES('Mumbai', 'India', 'Winter', 24.8, 5.9);\")\n",
    "    conn.execute(\"INSERT INTO city_data VALUES('Mumbai', 'India', 'Spring', 28.4, 16.2);\")\n",
    "    conn.execute(\"INSERT INTO city_data VALUES('Mumbai', 'India', 'Summer', 27.9, 1549.4);\")\n",
    "    conn.execute(\"INSERT INTO city_data VALUES('Mumbai', 'India', 'Fall', 27.6, 346.0);\")\n",
    "    conn.execute(\"INSERT INTO city_data VALUES('London', 'United Kingdom', 'Winter', 4.2, 207.7);\")\n",
    "    conn.execute(\"INSERT INTO city_data VALUES('London', 'United Kingdom', 'Spring', 8.3, 169.6 );\")\n",
    "    conn.execute(\"INSERT INTO city_data VALUES('London', 'United Kingdom', 'Summer', 15.7, 157.0);\")\n",
    "    conn.execute(\"INSERT INTO city_data VALUES('London', 'United Kingdom', 'Fall', 10.4, 218.5);\")\n",
    "    conn.execute(\"INSERT INTO city_data VALUES('Cairo', 'Egypt', 'Winter', 13.6, 16.5);\")\n",
    "    conn.execute(\"INSERT INTO city_data VALUES('Cairo', 'Egypt', 'Spring', 20.7, 6.5);\")\n",
    "    conn.execute(\"INSERT INTO city_data VALUES('Cairo', 'Egypt', 'Summer', 27.7, 0.1);\")\n",
    "    conn.execute(\"INSERT INTO city_data VALUES('Cairo', 'Egypt', 'Fall', 22.2, 4.5);\")\n",
    "\n",
    "    my_cur.execute(\"SELECT temperature from city_data\")\n",
    "    my_result =my_cur.fetchall()             #part 1\n",
    "    print(\"output 1: \")\n",
    "    for x in my_result:\n",
    "      print(x, end=\"\")\n",
    "\n",
    "    print()\n",
    "    my_cur.execute(\"SELECT DISTINCT(city) from city_data\")\n",
    "    my_result = my_cur.fetchall()\n",
    "    print(\"output 2: \")\n",
    "    for x in my_result:                          #part 2\n",
    "      print(x, end=\"\")\n",
    "\n",
    "    print()\n",
    "    my_cur.execute(\"SELECT * from city_data where country = 'India'\")\n",
    "    my_result = my_cur.fetchall()\n",
    "    print(\"output 3: \")\n",
    "    for x in my_result:                             #part 3\n",
    "      print(x, end=\"\")\n",
    "\n",
    "    print()\n",
    "    my_cur.execute(\"SELECT * from city_data where season = 'Fall'\")\n",
    "    my_result = my_cur.fetchall()\n",
    "    print(\"output 4: \")\n",
    "    for x in my_result:                             #part 4\n",
    "      print(x, end=\"\")\n",
    "\n",
    "    print()\n",
    "    my_cur.execute(\"SELECT city,country,season from city_data where rainfall BETWEEN 200 and 400\")\n",
    "    my_result = my_cur.fetchall()\n",
    "    print(\"output 5: \")\n",
    "    for x in my_result:                                 #part 5\n",
    "      print(x, end=\"\")\n",
    "\n",
    "    print()\n",
    "    my_cur.execute(\"SELECT city,country from city_data where (season = 'Fall' and temperature > 20) Order BY temperature ASC \")\n",
    "    my_result = my_cur.fetchall()\n",
    "    print(\"output 6: \")\n",
    "    for x in my_result:                                #part 6\n",
    "      print(x, end=\"\")\n",
    "\n",
    "    print()\n",
    "    my_cur.execute(\"SELECT sum(rainfall) from city_data where city = 'Cairo'\")\n",
    "    my_result = my_cur.fetchall()\n",
    "    print(\"output 7: \")\n",
    "    for x in my_result:\n",
    "      print(x, end=\"\")                                      #part 7\n",
    "\n",
    "    print()\n",
    "    my_cur.execute(\"SELECT season, sum(rainfall) from city_data group by season\")\n",
    "    my_result = my_cur.fetchall()\n",
    "    print(\"output 8: \")\n",
    "    for x in my_result:                                   #part 8\n",
    "      print(x, end=\"\")\n",
    "\n",
    "    conn.close()\n",
    "except Exception as e:\n",
    "    print(\"Oops!\", e.__class__, \"occurred.\")\n"
   ]
  },
  {
   "cell_type": "markdown",
   "id": "d2531b13",
   "metadata": {},
   "source": [
    "Question 9"
   ]
  },
  {
   "cell_type": "code",
   "execution_count": 56,
   "id": "0c0b4050",
   "metadata": {},
   "outputs": [
    {
     "name": "stdout",
     "output_type": "stream",
     "text": [
      "1.  ['THE', 'QUICK', 'BROWN', 'FOX', 'JUMPS', 'OVER', 'THE', 'LAZY', 'DOG']\n",
      "2.  ['the', 'quick', 'brown', 'fox', 'jumps', 'over', 'the', 'lazy', 'dog']\n",
      "3.  [3, 5, 5, 3, 5, 4, 3, 4, 3]\n",
      "4.  [['THE', 'the', 3], ['QUICK', 'quick', 5], ['BROWN', 'brown', 5], ['FOX', 'fox', 3], ['JUMPS', 'jumps', 5], ['OVER', 'over', 4], ['THE', 'the', 3], ['LAZY', 'lazy', 4], ['DOG', 'dog', 3]]\n",
      "5.  ['The', 'quick', 'brown', 'fox', 'jumps', 'over', 'the', 'lazy', 'dog']\n"
     ]
    }
   ],
   "source": [
    "words = ['The', 'quick', 'brown', 'fox', 'jumps', 'over', 'the', 'lazy', 'dog']\n",
    "print(\"1. \",[x.upper() for x in words])\n",
    "print(\"2. \",[x.lower() for x in words])\n",
    "print(\"3. \",[len(x) for x in words])\n",
    "print(\"4. \",[[x.upper(), x.lower(), len(x)]for x in words])\n",
    "print(\"5. \",[x for x in words if len(x) >= 3])"
   ]
  },
  {
   "cell_type": "code",
   "execution_count": null,
   "id": "c682c22f",
   "metadata": {},
   "outputs": [],
   "source": []
  }
 ],
 "metadata": {
  "kernelspec": {
   "display_name": "Python 3 (ipykernel)",
   "language": "python",
   "name": "python3"
  },
  "language_info": {
   "codemirror_mode": {
    "name": "ipython",
    "version": 3
   },
   "file_extension": ".py",
   "mimetype": "text/x-python",
   "name": "python",
   "nbconvert_exporter": "python",
   "pygments_lexer": "ipython3",
   "version": "3.9.12"
  }
 },
 "nbformat": 4,
 "nbformat_minor": 5
}
